{
 "cells": [
  {
   "cell_type": "code",
   "execution_count": 85,
   "metadata": {},
   "outputs": [
    {
     "name": "stderr",
     "output_type": "stream",
     "text": [
      "C:\\Users\\Abhiruchi\\Anaconda3\\lib\\site-packages\\ipykernel_launcher.py:14: SettingWithCopyWarning: \n",
      "A value is trying to be set on a copy of a slice from a DataFrame\n",
      "\n",
      "See the caveats in the documentation: http://pandas.pydata.org/pandas-docs/stable/indexing.html#indexing-view-versus-copy\n",
      "  \n"
     ]
    }
   ],
   "source": [
    "import numpy as np\n",
    "import pandas as pd\n",
    "import csv\n",
    "import requests   \n",
    "import io\n",
    "\n",
    "url  =  \"https://raw.githubusercontent.com/AbhiRuchiK/Naive-Bayes-Classifier-spam-or-ham/master/spamraw.csv\"  #linking the address of csv file\n",
    "s=requests.get(url).content\n",
    "AllData=pd.read_csv(io.StringIO(s.decode('utf-8')))\n",
    "TrainData = AllData[0: int(.60*(len(AllData)))]\n",
    "TestData = AllData[int(.60*(len(AllData))) : ]\n",
    "\n",
    "TypeTrain =list(TrainData.type)\n",
    "TrainData.drop(['type'], axis = 1, inplace = True)\n",
    "\n",
    "TrainData = np.array(TrainData)"
   ]
  },
  {
   "cell_type": "code",
   "execution_count": 86,
   "metadata": {},
   "outputs": [],
   "source": [
    "SpamData = []\n",
    "HamData = []\n",
    "for i in range(len(TrainData)):\n",
    "    if TypeTrain[i] == \"ham\":\n",
    "        HamData.append(TrainData[i])\n",
    "    else:\n",
    "        SpamData.append(TrainData[i])"
   ]
  },
  {
   "cell_type": "code",
   "execution_count": 87,
   "metadata": {},
   "outputs": [],
   "source": [
    "import string\n",
    "SplitHam = []\n",
    "SplitSpam = []\n",
    "for i in (HamData):\n",
    "    SplitHam = SplitHam+(list(set((str(i).replace(\"[\", \"\").replace(\"]\", \"\").replace(\"'\", \"\")).split(' '))))\n",
    "\n",
    "for i in (SpamData):\n",
    "    SplitSpam = SplitSpam+(list(set((str(i).replace(\"[\", \"\").replace(\"]\", \"\").replace(\"'\", \"\")).split(' '))))"
   ]
  },
  {
   "cell_type": "code",
   "execution_count": 88,
   "metadata": {},
   "outputs": [],
   "source": [
    "from collections import Counter \n",
    "FreqWordsHam = Counter(SplitHam)\n",
    "FreqWordsSpam = Counter(SplitSpam)"
   ]
  },
  {
   "cell_type": "code",
   "execution_count": 89,
   "metadata": {},
   "outputs": [
    {
     "name": "stderr",
     "output_type": "stream",
     "text": [
      "C:\\Users\\Abhiruchi\\Anaconda3\\lib\\site-packages\\ipykernel_launcher.py:2: SettingWithCopyWarning: \n",
      "A value is trying to be set on a copy of a slice from a DataFrame\n",
      "\n",
      "See the caveats in the documentation: http://pandas.pydata.org/pandas-docs/stable/indexing.html#indexing-view-versus-copy\n",
      "  \n"
     ]
    }
   ],
   "source": [
    "TypeTest =list(TestData.type)\n",
    "TestData.drop(['type'], axis = 1, inplace = True)\n",
    "TestData = np.array(TestData)"
   ]
  },
  {
   "cell_type": "code",
   "execution_count": 90,
   "metadata": {},
   "outputs": [],
   "source": [
    "SplitTestData = []\n",
    "for i in TestData:\n",
    "     SplitTestData.append(list(set((str(i).replace(\"[\", \"\").replace(\"]\", \"\").replace(\"'\", \"\")).split(' '))))"
   ]
  },
  {
   "cell_type": "code",
   "execution_count": 91,
   "metadata": {},
   "outputs": [],
   "source": [
    "ProbHamWords = len(FreqWordsHam)/(len(FreqWordsHam) + len(FreqWordsSpam))\n",
    "ProbSpamWords = len(FreqWordsSpam)/(len(FreqWordsHam) + len(FreqWordsSpam))"
   ]
  },
  {
   "cell_type": "code",
   "execution_count": 92,
   "metadata": {},
   "outputs": [],
   "source": [
    "ProbHamSentence = []\n",
    "ProbSpamSentence = []\n",
    "for i in SplitTestData:\n",
    "    Word_Spam = 1\n",
    "    Word_Ham = 1\n",
    "    for j in i:\n",
    "        Word_Ham = Word_Ham*((FreqWordsHam[j]/len(FreqWordsHam))+1)\n",
    "        Word_Spam = Word_Spam*((FreqWordsSpam[j]/len(FreqWordsSpam))+1)\n",
    "    ProbHamSentence.append(ProbHamWords*(np.log(Word_Ham)))\n",
    "    ProbSpamSentence.append(ProbSpamWords*(np.log(Word_Spam)))\n",
    "    "
   ]
  },
  {
   "cell_type": "code",
   "execution_count": 93,
   "metadata": {},
   "outputs": [],
   "source": [
    "ResultTest = []\n",
    "for i in range(len(TestData)):\n",
    "    if ProbHamSentence > ProbSpamSentence:\n",
    "        ResultTest.append('ham')\n",
    "    else:\n",
    "        ResultTest.append('spam')"
   ]
  },
  {
   "cell_type": "code",
   "execution_count": 94,
   "metadata": {},
   "outputs": [],
   "source": [
    "Matches = 0\n",
    "for i in range(len(TypeTest)):\n",
    "    if TypeTest[i] == ResultTest[i]:\n",
    "        Matches+=1"
   ]
  },
  {
   "cell_type": "code",
   "execution_count": 95,
   "metadata": {},
   "outputs": [
    {
     "name": "stdout",
     "output_type": "stream",
     "text": [
      "Accuracy =  86.19604316546763\n"
     ]
    }
   ],
   "source": [
    "print(\"Accuracy = \", (Matches/len(TestData))*100)"
   ]
  }
 ],
 "metadata": {
  "kernelspec": {
   "display_name": "Python 3",
   "language": "python",
   "name": "python3"
  },
  "language_info": {
   "codemirror_mode": {
    "name": "ipython",
    "version": 3
   },
   "file_extension": ".py",
   "mimetype": "text/x-python",
   "name": "python",
   "nbconvert_exporter": "python",
   "pygments_lexer": "ipython3",
   "version": "3.6.3"
  }
 },
 "nbformat": 4,
 "nbformat_minor": 2
}
